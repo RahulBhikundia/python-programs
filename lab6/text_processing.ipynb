{
 "cells": [
  {
   "attachments": {},
   "cell_type": "markdown",
   "metadata": {},
   "source": [
    "Importing data from csv file"
   ]
  },
  {
   "cell_type": "code",
   "execution_count": 2,
   "metadata": {},
   "outputs": [
    {
     "name": "stdout",
     "output_type": "stream",
     "text": [
      "['S.No.', 'x', 'y']\n",
      "['1', '2', 'A']\n",
      "['2', '4', 'B']\n",
      "['3', '6', 'C']\n",
      "['4', '8', 'D']\n",
      "['5', '10', 'E']\n"
     ]
    }
   ],
   "source": [
    "#using csv module\n",
    "import csv\n",
    "with open('sample.csv','r') as f:\n",
    "    data = csv.reader(f)\n",
    "    for row in data:\n",
    "        print(row)"
   ]
  },
  {
   "cell_type": "code",
   "execution_count": 3,
   "metadata": {},
   "outputs": [
    {
     "name": "stdout",
     "output_type": "stream",
     "text": [
      "   S.No.   x  y\n",
      "0      1   2  A\n",
      "1      2   4  B\n",
      "2      3   6  C\n",
      "3      4   8  D\n",
      "4      5  10  E\n"
     ]
    }
   ],
   "source": [
    "#Using Pandas\n",
    "import pandas as pd\n",
    "data = pd.read_csv('sample.csv')\n",
    "print(data)"
   ]
  },
  {
   "attachments": {},
   "cell_type": "markdown",
   "metadata": {},
   "source": [
    "Data Slicing and Extraction"
   ]
  },
  {
   "cell_type": "code",
   "execution_count": 4,
   "metadata": {},
   "outputs": [
    {
     "name": "stdout",
     "output_type": "stream",
     "text": [
      "S.No.    1\n",
      "x        2\n",
      "y        A\n",
      "Name: 0, dtype: object\n"
     ]
    }
   ],
   "source": [
    "d = data.iloc[0]\n",
    "print(d)"
   ]
  },
  {
   "cell_type": "code",
   "execution_count": 11,
   "metadata": {},
   "outputs": [],
   "source": [
    "d1 = data['S.No.']\n",
    "d2 = data['y']"
   ]
  },
  {
   "attachments": {},
   "cell_type": "markdown",
   "metadata": {},
   "source": [
    "Create an Array"
   ]
  },
  {
   "cell_type": "code",
   "execution_count": 6,
   "metadata": {},
   "outputs": [],
   "source": [
    "import numpy as np\n",
    "e = np.array(d2)\n",
    "#mean or average\n",
    "# f = np.mean(e)\n",
    "# g = np.sum(e)\n",
    "# h = np.subtract(d2,d1)"
   ]
  },
  {
   "cell_type": "code",
   "execution_count": 7,
   "metadata": {},
   "outputs": [
    {
     "name": "stdout",
     "output_type": "stream",
     "text": [
      "['A' 'B' 'C' 'D' 'E']\n",
      "1\n"
     ]
    }
   ],
   "source": [
    "i = np.unique(e)\n",
    "print(i)\n",
    "e = list(e)\n",
    "print(e.count('A'))"
   ]
  }
 ],
 "metadata": {
  "kernelspec": {
   "display_name": "Python 3",
   "language": "python",
   "name": "python3"
  },
  "language_info": {
   "codemirror_mode": {
    "name": "ipython",
    "version": 3
   },
   "file_extension": ".py",
   "mimetype": "text/x-python",
   "name": "python",
   "nbconvert_exporter": "python",
   "pygments_lexer": "ipython3",
   "version": "3.11.0"
  },
  "orig_nbformat": 4
 },
 "nbformat": 4,
 "nbformat_minor": 2
}
