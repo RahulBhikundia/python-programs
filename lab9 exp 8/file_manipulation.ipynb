{
 "cells": [
  {
   "attachments": {},
   "cell_type": "markdown",
   "metadata": {},
   "source": [
    "Object: Perform File manipulations - open, close, read, write, and append"
   ]
  },
  {
   "cell_type": "code",
   "execution_count": 5,
   "metadata": {},
   "outputs": [
    {
     "name": "stdout",
     "output_type": "stream",
     "text": [
      "Name: Rahul Bhikundia\n",
      "Year: 2\n",
      "Branch: CSE(AI&ML)\n",
      "Roll NO.: 21JDAI045Hello\n"
     ]
    }
   ],
   "source": [
    "# Open data.txt file as shown below\n",
    "f = open(\"data.txt\",\"r\")\n",
    "print(f.read())\n",
    "f.close()"
   ]
  },
  {
   "attachments": {},
   "cell_type": "markdown",
   "metadata": {},
   "source": [
    "You have to open the file evry time you create a new cell"
   ]
  },
  {
   "cell_type": "code",
   "execution_count": 6,
   "metadata": {},
   "outputs": [],
   "source": [
    "f1 = open(\"data.txt\",\"w\")\n",
    "f1.write('''Name: Rahul Bhikundia\n",
    "Year: 2\n",
    "Branch: CSE(AI&ML)\n",
    "Roll NO.: 21JDAI045''')\n",
    "f1.close()"
   ]
  },
  {
   "cell_type": "code",
   "execution_count": 11,
   "metadata": {},
   "outputs": [
    {
     "name": "stdout",
     "output_type": "stream",
     "text": [
      "Name: Rahul Bhikundia\n",
      "Year: 2\n",
      "Branch: CSE(AI&ML)\n",
      "Roll NO.: 21JDAI045HelloHelloHelloHelloHelloHello\n"
     ]
    }
   ],
   "source": [
    "f2 = open(\"data.txt\",\"a+\")\n",
    "f2.write(\"Hello\")\n",
    "f2.seek(0)\n",
    "print(f2.read())\n",
    "f2.close()\n"
   ]
  },
  {
   "cell_type": "code",
   "execution_count": null,
   "metadata": {},
   "outputs": [],
   "source": [
    "f3 = open(\"file.txt\",\"x\")"
   ]
  },
  {
   "cell_type": "code",
   "execution_count": null,
   "metadata": {},
   "outputs": [
    {
     "name": "stdout",
     "output_type": "stream",
     "text": [
      "Hello World\n",
      "Yo Yo!!orld\n"
     ]
    }
   ],
   "source": [
    "f3 = open(\"file.txt\",\"w+\")\n",
    "f3.write(\"Hello World\")\n",
    "f3.seek(0)\n",
    "print(f3.read())\n",
    "f3.seek(0)\n",
    "f3.write(\"Yo Yo!!\")\n",
    "f3.seek(0)\n",
    "print(f3.read())\n",
    "f3.close()"
   ]
  },
  {
   "cell_type": "code",
   "execution_count": null,
   "metadata": {},
   "outputs": [],
   "source": [
    "s = \"\"\n",
    "f1 = open(\"data.txt\",\"r\")\n",
    "s += f1.read()\n",
    "f2 = open(\"file.txt\",\"w\")\n",
    "f2.write(s)\n",
    "f1.close()\n",
    "f2.close()"
   ]
  },
  {
   "cell_type": "code",
   "execution_count": null,
   "metadata": {},
   "outputs": [
    {
     "data": {
      "text/plain": [
       "'D:\\\\python programs\\\\lab9 exp 8\\\\file.txt'"
      ]
     },
     "execution_count": 47,
     "metadata": {},
     "output_type": "execute_result"
    }
   ],
   "source": [
    "import shutil\n",
    "\n",
    "original = r'D:\\python programs\\lab9 exp 8\\data.txt'\n",
    "target = r'D:\\python programs\\lab9 exp 8\\file.txt'\n",
    "\n",
    "shutil.copyfile(original, target)"
   ]
  }
 ],
 "metadata": {
  "kernelspec": {
   "display_name": "Python 3",
   "language": "python",
   "name": "python3"
  },
  "language_info": {
   "codemirror_mode": {
    "name": "ipython",
    "version": 3
   },
   "file_extension": ".py",
   "mimetype": "text/x-python",
   "name": "python",
   "nbconvert_exporter": "python",
   "pygments_lexer": "ipython3",
   "version": "3.11.0"
  },
  "orig_nbformat": 4
 },
 "nbformat": 4,
 "nbformat_minor": 2
}
