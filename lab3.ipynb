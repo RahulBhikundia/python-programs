{
 "cells": [
  {
   "attachments": {},
   "cell_type": "markdown",
   "metadata": {},
   "source": [
    "Object: Solve Problems using decision making and looping statements\n",
    "Decision Making Statements:\n"
   ]
  },
  {
   "cell_type": "code",
   "execution_count": 1,
   "metadata": {},
   "outputs": [
    {
     "name": "stdout",
     "output_type": "stream",
     "text": [
      "11 is greater than 10\n"
     ]
    }
   ],
   "source": [
    "n = int(input(\"Enter a number:\"))\n",
    "\n",
    "# Checking whether entered Number is greater then or smaller than 10\n",
    "if n > 10:\n",
    "    print(f'{n} is greater than 10')\n",
    "elif n < 10:\n",
    "    print(f'{n} is smaller than 10')\n",
    "else:\n",
    "    print(f'{n} is equal to 10')"
   ]
  },
  {
   "cell_type": "code",
   "execution_count": 3,
   "metadata": {},
   "outputs": [
    {
     "name": "stdout",
     "output_type": "stream",
     "text": [
      "0\n",
      "1\n",
      "2\n",
      "3\n",
      "4\n"
     ]
    }
   ],
   "source": [
    "for i in range(5):\n",
    "    print(i)"
   ]
  },
  {
   "cell_type": "code",
   "execution_count": 4,
   "metadata": {},
   "outputs": [
    {
     "name": "stdout",
     "output_type": "stream",
     "text": [
      "L\n",
      "e\n",
      "t\n",
      "t\n",
      "e\n",
      "r\n"
     ]
    }
   ],
   "source": [
    "for i in 'Letter':\n",
    "    print(i)"
   ]
  },
  {
   "cell_type": "code",
   "execution_count": 5,
   "metadata": {},
   "outputs": [
    {
     "name": "stdout",
     "output_type": "stream",
     "text": [
      "1\n",
      "2\n",
      "3\n",
      "4\n",
      "5\n"
     ]
    }
   ],
   "source": [
    "list1 = [1,2,3,4,5]\n",
    "for i in list1:\n",
    "    print(i)"
   ]
  },
  {
   "cell_type": "code",
   "execution_count": 6,
   "metadata": {},
   "outputs": [
    {
     "name": "stdout",
     "output_type": "stream",
     "text": [
      "1 \n",
      "1 2 \n",
      "1 2 3 \n",
      "1 2 3 4 \n",
      "1 2 3 4 5 \n"
     ]
    }
   ],
   "source": [
    "for i in range(2,7):\n",
    "    for j in range(1,i):\n",
    "        print(j,end=' ')\n",
    "    print()"
   ]
  },
  {
   "cell_type": "code",
   "execution_count": 8,
   "metadata": {},
   "outputs": [
    {
     "name": "stdout",
     "output_type": "stream",
     "text": [
      "Enter Marks of following subjects:\n",
      "Grade D\n"
     ]
    }
   ],
   "source": [
    "print(\"Enter Marks of following subjects:\")\n",
    "p = int(input(\"Physics: \"))\n",
    "ch = int(input(\"Chemistry: \"))\n",
    "b = int(input(\"Biology: \"))\n",
    "m = int(input(\"Mathematics: \"))\n",
    "c = int(input(\"Computer: \"))\n",
    "\n",
    "percent = (p+ch+b+m+c)/5\n",
    "\n",
    "if percent >= 90 and percent < 100:\n",
    "    print(\"Grade A\")\n",
    "elif percent >= 80 and percent < 90:\n",
    "    print(\"Grade B\")\n",
    "elif percent >= 70 and percent < 80:\n",
    "    print(\"Grade C\")\n",
    "elif percent >= 60 and percent < 70:\n",
    "    print(\"Grade D\")\n",
    "elif percent >= 40 and percent < 60:\n",
    "    print(\"Grade E\")\n",
    "elif percent >= 0 and percent < 40:\n",
    "    print(\"Grade F\")\n",
    "else:\n",
    "    print(\"Inavlid Marks Entered!!\")"
   ]
  }
 ],
 "metadata": {
  "kernelspec": {
   "display_name": "Python 3",
   "language": "python",
   "name": "python3"
  },
  "language_info": {
   "codemirror_mode": {
    "name": "ipython",
    "version": 3
   },
   "file_extension": ".py",
   "mimetype": "text/x-python",
   "name": "python",
   "nbconvert_exporter": "python",
   "pygments_lexer": "ipython3",
   "version": "3.11.0"
  },
  "orig_nbformat": 4,
  "vscode": {
   "interpreter": {
    "hash": "1541a75496dc353dd60d2f656c7f359c8f58f7fd047796a5f580808f3980f1f2"
   }
  }
 },
 "nbformat": 4,
 "nbformat_minor": 2
}
