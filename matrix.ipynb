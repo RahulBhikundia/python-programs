{
 "cells": [
  {
   "attachments": {},
   "cell_type": "markdown",
   "metadata": {},
   "source": [
    "Object: Matrix Addition, Substraction and Multiplication "
   ]
  },
  {
   "cell_type": "code",
   "execution_count": 9,
   "metadata": {},
   "outputs": [],
   "source": [
    "#Matrix Declaration/Creation\n",
    "def getm(r,c):\n",
    "    m = [[0]*c for _ in range(r)]\n",
    "    for i in range(r):\n",
    "        for j in range(c):\n",
    "            m[i][j] = int(input())\n",
    "    return m"
   ]
  },
  {
   "cell_type": "code",
   "execution_count": 10,
   "metadata": {},
   "outputs": [],
   "source": [
    "#Print Matrix\n",
    "def printm(m:list):\n",
    "    for i in range(len(m)):\n",
    "        for j in range(len(m[0])):\n",
    "            print(m[i][j],end=' ')\n",
    "        print()\n"
   ]
  },
  {
   "cell_type": "code",
   "execution_count": 11,
   "metadata": {},
   "outputs": [
    {
     "name": "stdout",
     "output_type": "stream",
     "text": [
      "Matrix A:\n",
      "1 2 \n",
      "3 4 \n",
      "Matrix B:\n",
      "5 6 \n",
      "7 8 \n",
      "Matrix C:\n",
      "6 8 \n",
      "10 12 \n"
     ]
    }
   ],
   "source": [
    "A = [[1,2],[3,4]]\n",
    "B = [[5,6],[7,8]]\n",
    "C = [[0]*2 for i in range(2)]\n",
    "\n",
    "print('Matrix A:')\n",
    "printm(A)\n",
    "print('Matrix B:')\n",
    "printm(B)\n",
    "\n",
    "# Matrix Addition\n",
    "for i in range(2):\n",
    "    for j in range(2):\n",
    "        C[i][j] = A[i][j] + B[i][j]\n",
    "print('Matrix C:')\n",
    "printm(C)"
   ]
  },
  {
   "cell_type": "code",
   "execution_count": 12,
   "metadata": {},
   "outputs": [],
   "source": [
    "# Function to initialize a matrix\n",
    "def initM(r,c):\n",
    "    m = [[0]*c for _ in range(r)]\n",
    "    return m"
   ]
  },
  {
   "cell_type": "code",
   "execution_count": 20,
   "metadata": {},
   "outputs": [
    {
     "name": "stdout",
     "output_type": "stream",
     "text": [
      "Enter Rows and Columns for First Matrix:\n",
      "First Matrix:\n",
      "1 1 \n",
      "1 1 \n",
      "Enter Rows and Columns for Second Matrix:\n",
      "Second Matrix:\n",
      "1 2 \n",
      "3 4 \n",
      "Resultant matrix:\n",
      "4 6 \n",
      "4 6 \n"
     ]
    }
   ],
   "source": [
    "# Matrix Multiplication\n",
    "print(\"Enter Rows and Columns for First Matrix:\")\n",
    "m = int(input(\"Rows:\"))\n",
    "n = int(input(\"Columns:\"))\n",
    "M1 = getm(m,n)\n",
    "print(\"First Matrix:\")\n",
    "printm(M1)\n",
    "print(\"Enter Rows and Columns for Second Matrix:\")\n",
    "p = int(input(\"Rows:\"))\n",
    "q = int(input(\"Columns:\"))\n",
    "M2 = getm(p,q)\n",
    "print(\"Second Matrix:\")\n",
    "printm(M2)\n",
    "if n!=p:\n",
    "    print(\"Multiplication not possible!\")\n",
    "    exit()\n",
    "M3 = initM(m,q)\n",
    "\n",
    "for i in range(m):\n",
    "    for j in range(q):\n",
    "        for k in range(n):\n",
    "            M3[i][j] += (M1[i][k] * M2[k][j])\n",
    "print(\"Resultant matrix:\")\n",
    "printm(M3)\n"
   ]
  }
 ],
 "metadata": {
  "kernelspec": {
   "display_name": "Python 3",
   "language": "python",
   "name": "python3"
  },
  "language_info": {
   "codemirror_mode": {
    "name": "ipython",
    "version": 3
   },
   "file_extension": ".py",
   "mimetype": "text/x-python",
   "name": "python",
   "nbconvert_exporter": "python",
   "pygments_lexer": "ipython3",
   "version": "3.11.0"
  },
  "orig_nbformat": 4
 },
 "nbformat": 4,
 "nbformat_minor": 2
}
