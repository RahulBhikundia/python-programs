{
 "cells": [
  {
   "attachments": {},
   "cell_type": "markdown",
   "metadata": {},
   "source": [
    "Defining Two Strings"
   ]
  },
  {
   "cell_type": "code",
   "execution_count": 9,
   "metadata": {},
   "outputs": [],
   "source": [
    "str1 = \"Hello\"\n",
    "str2 = \" World!\""
   ]
  },
  {
   "attachments": {},
   "cell_type": "markdown",
   "metadata": {},
   "source": [
    "Indexing, Slicing, Concatenation, Repitition"
   ]
  },
  {
   "cell_type": "code",
   "execution_count": 10,
   "metadata": {},
   "outputs": [
    {
     "name": "stdout",
     "output_type": "stream",
     "text": [
      "H\n",
      "o\n",
      "l\n",
      "Hello\n",
      "Hello World!\n",
      "HelloHelloHello\n"
     ]
    }
   ],
   "source": [
    "print(str1[0])\n",
    "print(str1[-1])\n",
    "print(str1[2])\n",
    "print(str1[:])\n",
    "print(str1+str2)\n",
    "print(str1*3)"
   ]
  },
  {
   "attachments": {},
   "cell_type": "markdown",
   "metadata": {},
   "source": [
    "Some String Functions"
   ]
  },
  {
   "cell_type": "code",
   "execution_count": 11,
   "metadata": {},
   "outputs": [
    {
     "name": "stdout",
     "output_type": "stream",
     "text": [
      "False\n",
      "False\n",
      "True\n",
      "True\n",
      "Hello\n"
     ]
    }
   ],
   "source": [
    "print(str1.islower())\n",
    "print(str1.isupper())\n",
    "print(str1.isalpha())\n",
    "print(str1.isalnum())\n",
    "print(str1.capitalize())\n",
    "del str1"
   ]
  },
  {
   "attachments": {},
   "cell_type": "markdown",
   "metadata": {},
   "source": [
    "List Creation indexing slicing concatenation repetition"
   ]
  },
  {
   "cell_type": "code",
   "execution_count": 12,
   "metadata": {},
   "outputs": [
    {
     "name": "stdout",
     "output_type": "stream",
     "text": [
      "[1, 2, 3, 4, 5]\n",
      "['A', 1, 2, 3, 'B']\n",
      "1\n",
      "5\n",
      "A\n",
      "[1, 2, 3, 4, 5]\n",
      "[1, 2, 3, 4]\n",
      "[1, 2, 3, 4, 5, 'A', 1, 2, 3, 'B']\n",
      "[1, 2, 3, 4, 5, 1, 2, 3, 4, 5, 1, 2, 3, 4, 5]\n"
     ]
    }
   ],
   "source": [
    "a = [] #Empty List\n",
    "a = [1,2,3,4,5]\n",
    "print(a)\n",
    "b = ['A',1,2,3,'B']\n",
    "print(b)\n",
    "print(a[0])\n",
    "print(a[-1])\n",
    "print(b[0])\n",
    "print(a[0:])\n",
    "print(a[:-1])\n",
    "print(a+b)\n",
    "print(a*3)"
   ]
  },
  {
   "attachments": {},
   "cell_type": "markdown",
   "metadata": {},
   "source": [
    "List Built-in-funtion"
   ]
  },
  {
   "cell_type": "code",
   "execution_count": 16,
   "metadata": {},
   "outputs": [
    {
     "name": "stdout",
     "output_type": "stream",
     "text": [
      "[0, 0, 1, 2, 3, 4, 5, 6, 7, 8, 6, 7, 8, 6, 7, 9, 8, 10, 6]\n",
      "[0, 0, 1, 2, 3, 4, 5, 6, 7, 8, 6, 7, 8, 6, 7, 9, 8, 10, 6, 7, 8]\n",
      "[0, 0, 0, 1, 2, 3, 4, 5, 6, 7, 8, 6, 7, 8, 6, 7, 9, 8, 10, 6, 7, 8]\n",
      "[0, 0, 0, 1, 2, 3, 4, 5, 6, 7, 8, 6, 7, 8, 6, 7, 9, 8, 10, 6, 7, 8, 10]\n",
      "[0, 0, 0, 1, 2, 3, 4, 5, 6, 7, 8, 6, 7, 8, 6, 7, 9, 8, 10, 6, 7, 8, 9, 10]\n"
     ]
    }
   ],
   "source": [
    "a.append(6)\n",
    "print(a)\n",
    "b = [7,8]\n",
    "a.extend(b)\n",
    "print(a)\n",
    "a.insert(0,0)\n",
    "print(a)\n",
    "a.append(10)\n",
    "print(a)\n",
    "a.insert(-1,9)\n",
    "print(a)"
   ]
  },
  {
   "attachments": {},
   "cell_type": "markdown",
   "metadata": {},
   "source": [
    "Tuple \n",
    "- they are immutable\n",
    "- a = (5,)\n",
    "- a = (1,3,4,5,\"A\")\n",
    "- Concatenation and Repitition can be performed"
   ]
  },
  {
   "cell_type": "code",
   "execution_count": 6,
   "metadata": {},
   "outputs": [
    {
     "name": "stdout",
     "output_type": "stream",
     "text": [
      "(5,)\n",
      "(5, 6, 7)\n",
      "<class 'tuple'>\n",
      "(5, 5, 5)\n"
     ]
    }
   ],
   "source": [
    "t = (5,)\n",
    "print(t)\n",
    "s = (6,7)\n",
    "print(t+s)\n",
    "q = 3,2,5\n",
    "print(type(q))\n",
    "print(t*3)\n",
    "del t"
   ]
  },
  {
   "attachments": {},
   "cell_type": "markdown",
   "metadata": {},
   "source": [
    "SET\n",
    "- non-repitive values\n",
    "- unordered\n",
    "- indexing slicing cannot be performed"
   ]
  },
  {
   "cell_type": "code",
   "execution_count": 4,
   "metadata": {},
   "outputs": [
    {
     "name": "stdout",
     "output_type": "stream",
     "text": [
      "{1, 2, 3, 4, 5}\n",
      "{1, 2, 3, 4, 5, 6}\n",
      "{1, 2, 3, 4, 5}\n",
      "{1, 2, 3, 4}\n"
     ]
    }
   ],
   "source": [
    "a = {1,2,3,4,5,5}\n",
    "print(a)\n",
    "a.add(6)\n",
    "print(a)\n",
    "a.remove(6)\n",
    "print(a)\n",
    "a.discard(5)\n",
    "print(a)"
   ]
  },
  {
   "attachments": {},
   "cell_type": "markdown",
   "metadata": {},
   "source": [
    "Dictionary\n",
    "- unordered collection of key:value pair\n",
    "- they are mutable"
   ]
  },
  {
   "cell_type": "code",
   "execution_count": 1,
   "metadata": {},
   "outputs": [
    {
     "name": "stdout",
     "output_type": "stream",
     "text": [
      "dict_items([('k1', 1), ('k2', 2), ('k3', 3)])\n",
      "dict_keys(['k1', 'k2', 'k3'])\n",
      "dict_values([1, 2, 3])\n",
      "{'k1': 1, 'k2': 2, 'k3': 3}\n",
      "1\n",
      "{'k1': 4, 'k2': 2, 'k3': 3}\n",
      "{'k2': 2, 'k3': 3}\n",
      "{'k2': 2, 'k3': 3, 'k1': 1}\n",
      "2\n",
      "3\n",
      "1\n"
     ]
    }
   ],
   "source": [
    "d = {'k1':1,'k2':2,'k3':3}\n",
    "print(d.items())\n",
    "print(d.keys())\n",
    "print(d.values())\n",
    "print(d)\n",
    "print(d['k1'])\n",
    "d['k1'] = 4\n",
    "print(d)\n",
    "\n",
    "del d['k1']\n",
    "print(d)\n",
    "d['k1'] = 1\n",
    "print(d)\n",
    "for i in d.keys():\n",
    "    print(d[i])"
   ]
  }
 ],
 "metadata": {
  "kernelspec": {
   "display_name": "Python 3",
   "language": "python",
   "name": "python3"
  },
  "language_info": {
   "codemirror_mode": {
    "name": "ipython",
    "version": 3
   },
   "file_extension": ".py",
   "mimetype": "text/x-python",
   "name": "python",
   "nbconvert_exporter": "python",
   "pygments_lexer": "ipython3",
   "version": "3.11.0"
  },
  "orig_nbformat": 4,
  "vscode": {
   "interpreter": {
    "hash": "1541a75496dc353dd60d2f656c7f359c8f58f7fd047796a5f580808f3980f1f2"
   }
  }
 },
 "nbformat": 4,
 "nbformat_minor": 2
}
